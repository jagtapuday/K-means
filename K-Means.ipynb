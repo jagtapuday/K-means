{
 "cells": [
  {
   "cell_type": "code",
   "execution_count": 208,
   "metadata": {},
   "outputs": [],
   "source": [
    "import numpy as np\n",
    "import math\n",
    "import matplotlib.pyplot as plt\n",
    "%matplotlib inline\n",
    "import random\n",
    "from scipy.spatial import distance"
   ]
  },
  {
   "cell_type": "code",
   "execution_count": 209,
   "metadata": {},
   "outputs": [],
   "source": [
    "points=[(1,1),(1,2),(2,1),(2,3),(4,0),(4,1),(5,1),(5,3),(6,6),(6,7),(7,6),(7,5)]"
   ]
  },
  {
   "cell_type": "code",
   "execution_count": 210,
   "metadata": {},
   "outputs": [],
   "source": [
    "x=[i[0] for i in points]\n",
    "y=[i[1] for i in points]"
   ]
  },
  {
   "cell_type": "code",
   "execution_count": 211,
   "metadata": {},
   "outputs": [
    {
     "data": {
      "text/plain": [
       "<matplotlib.collections.PathCollection at 0x7f42274d9310>"
      ]
     },
     "execution_count": 211,
     "metadata": {},
     "output_type": "execute_result"
    },
    {
     "data": {
      "image/png": "[encoded data removed]",
      "text/plain": [
       "<Figure size 432x288 with 1 Axes>"
      ]
     },
     "metadata": {
      "needs_background": "light"
     },
     "output_type": "display_data"
    }
   ],
   "source": [
    "plt.scatter(x,y)"
   ]
  },
  {
   "cell_type": "markdown",
   "metadata": {},
   "source": [
    "# Step - 1\n",
    "    Intialization"
   ]
  },
  {
   "cell_type": "markdown",
   "metadata": {},
   "source": [
    "# Step - 2\n",
    "    Finding Distance between Centroid and other points"
   ]
  },
  {
   "cell_type": "markdown",
   "metadata": {},
   "source": [
    "# step - 3"
   ]
  },
  {
   "cell_type": "code",
   "execution_count": 294,
   "metadata": {},
   "outputs": [
    {
     "name": "stdout",
     "output_type": "stream",
     "text": [
      "Please insert K=3\n",
      "Intial_Centroid-> [(4, 0), (5, 3), (1, 2)]\n",
      "New_Centroid-> [(4.5, 1.25), (6.5, 6.0), (1.5, 1.75)]\n"
     ]
    },
    {
     "data": {
      "image/png": "[encoded data removed]",
      "text/plain": [
       "<Figure size 432x288 with 1 Axes>"
      ]
     },
     "metadata": {
      "needs_background": "light"
     },
     "output_type": "display_data"
    }
   ],
   "source": [
    "def plot_fun():\n",
    "    print(\"New_Centroid->\",New_Centroid)  \n",
    "    x=[i[0] for i in points]\n",
    "    y=[i[1] for i in points]\n",
    "    c_x=[i[0] for i in New_Centroid]\n",
    "    c_y=[i[1] for i in New_Centroid]\n",
    "    plt.scatter(x,y,c=New_Cluster)\n",
    "    plt.scatter(c_x,c_y,c=\"red\")\n",
    "    \n",
    "\n",
    "k=int(input(\"Please insert K=\"))\n",
    "Intial_Centroid=random.sample(points,k)\n",
    "print(\"Intial_Centroid->\",Intial_Centroid)\n",
    "New_Centroid=Intial_Centroid\n",
    "for i in range(5):\n",
    "    #5 time check\n",
    "    New_Cluster=[]\n",
    "    for i in points:\n",
    "        c=[]\n",
    "        for j in New_Centroid:\n",
    "            dist = distance.euclidean(i, j)\n",
    "            c.append(dist)\n",
    "        New_Cluster.append(c.index(min(c)))\n",
    "    temp=[]\n",
    "    for i in range(k):\n",
    "        x_sum=0\n",
    "        y_sum=0\n",
    "        count=0\n",
    "        for index,j in enumerate(New_Cluster):\n",
    "            if i==j:\n",
    "                count+=1\n",
    "                x_sum+=points[index][0]\n",
    "                y_sum+=points[index][1]\n",
    "        if count>0:\n",
    "            temp.append(((x_sum/count),(y_sum/count)))\n",
    "    New_Centroid=temp\n",
    "plot_fun()   "
   ]
  },
  {
   "cell_type": "code",
   "execution_count": 292,
   "metadata": {},
   "outputs": [],
   "source": [
    "# If not satisfied run again problem due to choosing random centroid"
   ]
  },
  {
   "cell_type": "code",
   "execution_count": null,
   "metadata": {},
   "outputs": [],
   "source": []
  }
 ],
 "metadata": {
  "kernelspec": {
   "display_name": "Python 3",
   "language": "python",
   "name": "python3"
  },
  "language_info": {
   "codemirror_mode": {
    "name": "ipython",
    "version": 3
   },
   "file_extension": ".py",
   "mimetype": "text/x-python",
   "name": "python",
   "nbconvert_exporter": "python",
   "pygments_lexer": "ipython3",
   "version": "3.7.7"
  },
  "toc": {
   "base_numbering": 1,
   "nav_menu": {},
   "number_sections": true,
   "sideBar": true,
   "skip_h1_title": false,
   "title_cell": "Table of Contents",
   "title_sidebar": "Contents",
   "toc_cell": false,
   "toc_position": {},
   "toc_section_display": true,
   "toc_window_display": true
  }
 },
 "nbformat": 4,
 "nbformat_minor": 4
}
